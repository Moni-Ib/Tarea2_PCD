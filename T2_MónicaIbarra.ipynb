{
 "cells": [
  {
   "cell_type": "markdown",
   "id": "73d0d81e",
   "metadata": {},
   "source": [
    "___\n",
    "# **Tarea 2: MLOps** \n",
    "`Mónica Ibarra Herrera`\n",
    "___"
   ]
  },
  {
   "cell_type": "markdown",
   "id": "6683e84e",
   "metadata": {},
   "source": [
    "**¿Qué es MLOps?**\n",
    "\n",
    "MLOps significa Machine Learning Operations (Operaciones de Aprendizaje Automático). Es una función que se enfoca en optimizar el proceso de llevar modelos de aprendizaje automático a producción, y luego mantenerlos y supervisarlos."
   ]
  },
  {
   "cell_type": "markdown",
   "id": "85b73831",
   "metadata": {},
   "source": [
    "**¿Para qué sirve MLOps?**\n",
    "\n",
    "Es útil para la creación y la calidad de las soluciones de machine learning. Usando este enfoque, los científicos de datos y los ingenieros de machine learning pueden colaborar y aumentar el ritmo de desarrollo y producción de modelos."
   ]
  },
  {
   "cell_type": "markdown",
   "id": "c2feb07f",
   "metadata": {},
   "source": [
    "**¿Por qué necesitamos MLOps?**\n",
    "\n",
    "Producir machine learning es difícil. El ciclo de machine learning consiste en diferentes componentes complejos como la ingesta de datos, la preparación de datos, el entrenamiento del modelo, el ajuste del modelo, la monitorización del modelo, la explicabilidad entre otro más. \n",
    "\n",
    "También requiere colaboración entre equipos por lo que se necesita mantener todos estos procesos sincronizados y funcionando en conjunto. MLOps abarca la experimentación, la iteración y la mejora del ciclo de vida de machine learning."
   ]
  },
  {
   "cell_type": "markdown",
   "id": "e51e1aaa",
   "metadata": {},
   "source": [
    "**¿Cuáles son los beneficios de MLOps?**\n",
    "\n",
    "Los principales beneficios son la eficiencia, la escalabilidad y la reducción de riesgos.\n",
    "\n",
    "- *Eficiencia*: MLOps permite que las personas que colaboren juntos logren un desarrollo de modelos más rápido, entreguen modelos de machine learning de mayor calidad y que la producción sea mucho más rápida.\n",
    "\n",
    "- *Escalabilidad*: MLOps también posibilita monitorear, administrar y supervisar miles de modelos al mismo tiempo de manera organizada.\n",
    "\n",
    "- *Reducción de riesgos*: Los modelos de machine learning a menudo requieren revisiones regulatorias. MLOps permite una mayor transparencia, garantizando un mayor cumplimiento con las políticas de una organización o de la industria, ya que reduce el riesgo de que un modelo funcione mal o que genere resultados que no son confiables."
   ]
  },
  {
   "cell_type": "markdown",
   "id": "76ca1610",
   "metadata": {},
   "source": [
    "**¿Cuáles son los componentes de MLOps?**\n",
    "\n",
    "El alcance de MLOps en los proyectos de machine learning depende de lo requiera el proyecto. En algunos casos, puede abarcar desde el pipeline de datos hasta la producción del modelo, mientras que en otros solo se aplica al proceso de despliegue del modelo.\n",
    "\n",
    "La mayoría de las empresas implementan los principios de MLOps en los siguientes componentes:\n",
    "\n",
    "- Análisis exploratorio de datos (EDA)\n",
    "\n",
    "- Preparación de datos e ingeniería de características\n",
    "\n",
    "- Entrenamiento y ajuste del modelo\n",
    "\n",
    "- Revisión y gobernanza del modelo\n",
    "\n",
    "- Inferencia y servicio del modelo\n",
    "\n",
    "- Monitoreo del modelo\n",
    "\n",
    "- Reentrenamiento automático del modelo"
   ]
  },
  {
   "attachments": {
    "mlops.png": {
     "image/png": "[encoded data removed]"
    }
   },
   "cell_type": "markdown",
   "id": "dcba0b6b",
   "metadata": {},
   "source": [
    "![mlops.png](attachment:mlops.png)\n"
   ]
  },
  {
   "cell_type": "markdown",
   "id": "6d6d2019",
   "metadata": {},
   "source": [
    "**¿Cuáles son las mejores prácticas para MLOps?**\n",
    "\n",
    "Las mejores prácticas de MLOps pueden describirse dependiendo de la etapa del ciclo de vida de machine learning en la que se apliquen los principios de MLOps:\n",
    "\n",
    "- *Análisis Exploratorio de Datos*: Explorar, compartir y preparar datos varias veces a medida que se avanza, creando conjuntos de datos, tablas y visualizaciones.\n",
    "\n",
    "- *Preparación de datos e ingeniería de características*: Limpiar los datos como valores duplicados o faltantes, así como transformar y agregar información para crear características útiles. Lo más importante es que las características sean visibles y compartidas entre las personas que colaboran, aprovechando un feature store.\n",
    "\n",
    "- *Entrenamiento y ajuste del modelo*: Utilizar librerías de código abierto populares como scikit-learn y hyperopt para entrenar y mejorar el rendimiento del modelo.\n",
    "\n",
    "- *Revisión y gobernanza del modelo*: Rastrear de dónde vienen los datos y cómo se entrenó el modelo, así como usar plataformas como MLflow para descubrir, compartir y colaborar en modelos.\n",
    "\n",
    "- *Inferencia y servicio del modelo*: Controlar la frecuencia con que se actualiza el modelo, automatizar partes del pipeline usando herramientas de CI/CD (integración y despliegue continuos) y probar y asegurar la calidad antes de usar el modelo.\n",
    "\n",
    "- *Despliegue y monitoreo del modelo*: Automatizar permisos y crear clusters para llevar los modelos registrados a producción. Habilitar endpoints API para que otras aplicaciones puedan usar el modelo y monitorear métricas para detectar problemas de rendimiento o errores.\n",
    "\n",
    "- *Reentrenamiento automático del modelo*: Configurar alertas y crear automatizaciones cuando el modelo empieza a fallar o los datos cambian para tomar acciones que corrijan los fallos."
   ]
  },
  {
   "cell_type": "markdown",
   "id": "0e176f66",
   "metadata": {},
   "source": [
    "**¿Cuál es la diferencia entre MLOps y DevOps?**\n",
    "\n",
    "MLOps es un conjunto de prácticas de ingeniería específicas para proyectos de machine learning que toman prestados principios de DevOps, usados en ingeniería de software.\n",
    "\n",
    "- *DevOps*: Se centra en aplicaciones de software, buscando una alta calidad y satisfacción del usuario.\n",
    "\n",
    "- *MLOps*: Aplica esos mismos principios a los modelos de machine learning, asegurando modelos de alta calidad y más rápidos de actualizar."
   ]
  },
  {
   "cell_type": "markdown",
   "id": "0e40d57c",
   "metadata": {},
   "source": [
    "**¿Entrenar modelos de lenguaje grande (LLMOps) es diferente de MLOps tradicional?**\n",
    "\n",
    "Aunque muchos conceptos de MLOps siguen aplicando, sí hay dfierencias significativas al entrenar LLMs que MLOps, por ejemplo:\n",
    "\n",
    "- *Recursos computacionales*: Los modelos grandes necesitan muchísima más potencia de cálculo y datos enormes. Se usan GPUs para entrenarlos rápido. El costo de predecir también es alto, por eso a veces se usan técnicas como compresión de modelos.\n",
    "\n",
    "- *Transfer Learning*: En vez de entrenar desde cero, los LLMs suelen partir de un modelo base y luego ajustarse con datos específicos, lo que permite buen rendimiento usando menos datos y menos recursos.\n",
    "\n",
    "- *Retroalimentación humana*: Los LLMs mejoran su rendimiento con retroalimentación de humanos, lo que ayuda a que el modelo responda mejor a tareas abiertas y a las necesidades reales de los usuarios.\n",
    "\n",
    "- *Ajuste de hiperparámetros*: En ML tradicional, se ajustan para mejorar precisión u otras métricas. En LLMs también se ajustan para reducir costo y tiempo de entrenamiento.\n",
    "\n",
    "- *Métricas de rendimiento*: Los modelos tradicionales ML usan métricas claras como accuracy, F1 o AUC. Los LLMs requieren métricas más específicas como BLEU o ROUGE, que son más difíciles de calcular."
   ]
  },
  {
   "cell_type": "markdown",
   "id": "b4061998",
   "metadata": {},
   "source": [
    "**¿Qué es una plataforma MLOps?**\n",
    "\n",
    "Es un entorno que ofrece un espacio colaborativo para trabajar en proyectos de machine learning. Permite exploración de datos y trabajo entre equipos en tiempo real. Facilita la ingeniería de características y la gestión de modelos. Controla y automatiza la transición, despliegue y monitoreo de modelos.\n",
    "\n",
    "En general, automatiza la operación y la sincronización de todo el ciclo de vida de machine learning."
   ]
  },
  {
   "cell_type": "markdown",
   "id": "8c212a91",
   "metadata": {},
   "source": [
    "**Bibliografía**\n",
    "\n",
    "MLOps Definition and Benefits | Databricks. (s. f.). Databricks. https://www.databricks.com/glossary/mlops"
   ]
  }
 ],
 "metadata": {
  "language_info": {
   "name": "python"
  }
 },
 "nbformat": 4,
 "nbformat_minor": 5
}
